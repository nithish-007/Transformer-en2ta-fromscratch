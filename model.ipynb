{
 "cells": [
  {
   "cell_type": "code",
   "execution_count": null,
   "id": "b56d220d",
   "metadata": {},
   "outputs": [],
   "source": [
    "from engine import InputEmbeddings, PositionalEncoding\n",
    "from engine import MultiHeadAttention\n",
    "from engine import LayerNormalization, ResidualConnection\n",
    "from engine import FeedForwardBlock, ProjectionLayer\n",
    "\n",
    "from data_loader import BilingualDataset, causal_mask"
   ]
  },
  {
   "cell_type": "code",
   "execution_count": null,
   "id": "e4a092fa",
   "metadata": {},
   "outputs": [],
   "source": []
  },
  {
   "cell_type": "code",
   "execution_count": null,
   "id": "b9f556bd",
   "metadata": {},
   "outputs": [],
   "source": []
  }
 ],
 "metadata": {
  "kernelspec": {
   "display_name": "llm",
   "language": "python",
   "name": "python3"
  },
  "language_info": {
   "codemirror_mode": {
    "name": "ipython",
    "version": 3
   },
   "file_extension": ".py",
   "mimetype": "text/x-python",
   "name": "python",
   "nbconvert_exporter": "python",
   "pygments_lexer": "ipython3",
   "version": "3.13.6"
  }
 },
 "nbformat": 4,
 "nbformat_minor": 5
}
